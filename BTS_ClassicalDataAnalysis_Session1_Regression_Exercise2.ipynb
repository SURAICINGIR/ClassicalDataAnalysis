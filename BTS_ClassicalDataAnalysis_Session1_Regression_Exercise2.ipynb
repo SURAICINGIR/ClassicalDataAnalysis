{
 "cells": [
  {
   "cell_type": "markdown",
   "metadata": {},
   "source": [
    "# Subject: Classical Data Analysis\n",
    "\n",
    "## Session 1 - Regression\n",
    "\n",
    "### Exercise 2 \n",
    "\n",
    "\n",
    "Implementation of Python StatsModels package with Quandl integration to calculate the Linear regression with one variable.  \n",
    "\n",
    "Considering the OLS presented in Demo 3 (Outbound tourism statistics for Spain), develop a new regression analysis based on the Quandl dataset “Inbound tourism statistics for Spain”. This dataset is available at https://www.quandl.com/data/UTOR/INTUR_ESP\n",
    "\n",
    "Use the field “Tourist arrivals at national borders – Thousands” as independent variable and the field “Travel - US$ Mn” as dependent variable.\n",
    "\n",
    "- Interpret and discuss the OLS Regression Results. \n",
    "- Commit scripts in your GitHub account. You should export your solution code (.ipynb notebook) and push it to your repository “ClassicalDataAnalysis”.\n",
    "\n",
    "The following are the tasks that should complete and synchronize with your repository “ClassicalDataAnalysis” until October 13. Please notice that none of these tasks is graded, however it’s important that you correctly understand and complete them in order to be sure that you won’t have problems with further assignments.\n"
   ]
  },
  {
   "cell_type": "markdown",
   "metadata": {},
   "source": [
    "## Import Quandl data using your API Key"
   ]
  },
  {
   "cell_type": "code",
   "execution_count": 5,
   "metadata": {},
   "outputs": [
    {
     "data": {
      "text/html": [
       "<div>\n",
       "<style>\n",
       "    .dataframe thead tr:only-child th {\n",
       "        text-align: right;\n",
       "    }\n",
       "\n",
       "    .dataframe thead th {\n",
       "        text-align: left;\n",
       "    }\n",
       "\n",
       "    .dataframe tbody tr th {\n",
       "        vertical-align: top;\n",
       "    }\n",
       "</style>\n",
       "<table border=\"1\" class=\"dataframe\">\n",
       "  <thead>\n",
       "    <tr style=\"text-align: right;\">\n",
       "      <th></th>\n",
       "      <th>Departures - Thousands</th>\n",
       "      <th>Tourism expenditure in other countries - US$ Mn</th>\n",
       "      <th>Travel - US$ Mn</th>\n",
       "      <th>Passenger transport - US$ Mn</th>\n",
       "    </tr>\n",
       "    <tr>\n",
       "      <th>Date</th>\n",
       "      <th></th>\n",
       "      <th></th>\n",
       "      <th></th>\n",
       "      <th></th>\n",
       "    </tr>\n",
       "  </thead>\n",
       "  <tbody>\n",
       "    <tr>\n",
       "      <th>1995-12-31</th>\n",
       "      <td>3648.0</td>\n",
       "      <td>5826.0</td>\n",
       "      <td>4539.0</td>\n",
       "      <td>1287.0</td>\n",
       "    </tr>\n",
       "    <tr>\n",
       "      <th>1996-12-31</th>\n",
       "      <td>4224.0</td>\n",
       "      <td>6332.0</td>\n",
       "      <td>5057.0</td>\n",
       "      <td>1275.0</td>\n",
       "    </tr>\n",
       "    <tr>\n",
       "      <th>1997-12-31</th>\n",
       "      <td>3980.0</td>\n",
       "      <td>6163.0</td>\n",
       "      <td>4681.0</td>\n",
       "      <td>1482.0</td>\n",
       "    </tr>\n",
       "    <tr>\n",
       "      <th>1998-12-31</th>\n",
       "      <td>4794.0</td>\n",
       "      <td>7119.0</td>\n",
       "      <td>5288.0</td>\n",
       "      <td>1831.0</td>\n",
       "    </tr>\n",
       "    <tr>\n",
       "      <th>1999-12-31</th>\n",
       "      <td>3519.0</td>\n",
       "      <td>7803.0</td>\n",
       "      <td>5862.0</td>\n",
       "      <td>1941.0</td>\n",
       "    </tr>\n",
       "  </tbody>\n",
       "</table>\n",
       "</div>"
      ],
      "text/plain": [
       "            Departures - Thousands  \\\n",
       "Date                                 \n",
       "1995-12-31                  3648.0   \n",
       "1996-12-31                  4224.0   \n",
       "1997-12-31                  3980.0   \n",
       "1998-12-31                  4794.0   \n",
       "1999-12-31                  3519.0   \n",
       "\n",
       "            Tourism expenditure in other countries - US$ Mn  Travel - US$ Mn  \\\n",
       "Date                                                                           \n",
       "1995-12-31                                           5826.0           4539.0   \n",
       "1996-12-31                                           6332.0           5057.0   \n",
       "1997-12-31                                           6163.0           4681.0   \n",
       "1998-12-31                                           7119.0           5288.0   \n",
       "1999-12-31                                           7803.0           5862.0   \n",
       "\n",
       "            Passenger transport - US$ Mn  \n",
       "Date                                      \n",
       "1995-12-31                        1287.0  \n",
       "1996-12-31                        1275.0  \n",
       "1997-12-31                        1482.0  \n",
       "1998-12-31                        1831.0  \n",
       "1999-12-31                        1941.0  "
      ]
     },
     "execution_count": 5,
     "metadata": {},
     "output_type": "execute_result"
    }
   ],
   "source": [
    "import quandl\n",
    "exercise = quandl.get(\"UTOR/EXTUR_ESP\", authtoken=\"mqxBUtsyqyhCCXQQxNNi\")\n",
    "exercise.head()"
   ]
  },
  {
   "cell_type": "code",
   "execution_count": 16,
   "metadata": {},
   "outputs": [
    {
     "data": {
      "text/html": [
       "<div>\n",
       "<style>\n",
       "    .dataframe thead tr:only-child th {\n",
       "        text-align: right;\n",
       "    }\n",
       "\n",
       "    .dataframe thead th {\n",
       "        text-align: left;\n",
       "    }\n",
       "\n",
       "    .dataframe tbody tr th {\n",
       "        vertical-align: top;\n",
       "    }\n",
       "</style>\n",
       "<table border=\"1\" class=\"dataframe\">\n",
       "  <thead>\n",
       "    <tr style=\"text-align: right;\">\n",
       "      <th></th>\n",
       "      <th>Date</th>\n",
       "      <th>Tourist arrivals at national borders - Thousands</th>\n",
       "      <th>Tourism expenditure in the country - US$ Mn</th>\n",
       "      <th>Travel - US$ Mn</th>\n",
       "      <th>Passenger transport - US$ Mn</th>\n",
       "    </tr>\n",
       "  </thead>\n",
       "  <tbody>\n",
       "    <tr>\n",
       "      <th>0</th>\n",
       "      <td>2014-12-31</td>\n",
       "      <td>64995.0</td>\n",
       "      <td>NaN</td>\n",
       "      <td>65100.0</td>\n",
       "      <td>NaN</td>\n",
       "    </tr>\n",
       "    <tr>\n",
       "      <th>1</th>\n",
       "      <td>2013-12-31</td>\n",
       "      <td>60675.0</td>\n",
       "      <td>NaN</td>\n",
       "      <td>62584.0</td>\n",
       "      <td>NaN</td>\n",
       "    </tr>\n",
       "    <tr>\n",
       "      <th>2</th>\n",
       "      <td>2012-12-31</td>\n",
       "      <td>57464.0</td>\n",
       "      <td>NaN</td>\n",
       "      <td>57877.0</td>\n",
       "      <td>NaN</td>\n",
       "    </tr>\n",
       "    <tr>\n",
       "      <th>3</th>\n",
       "      <td>2011-12-31</td>\n",
       "      <td>56177.0</td>\n",
       "      <td>NaN</td>\n",
       "      <td>62447.0</td>\n",
       "      <td>NaN</td>\n",
       "    </tr>\n",
       "    <tr>\n",
       "      <th>4</th>\n",
       "      <td>2010-12-31</td>\n",
       "      <td>52677.0</td>\n",
       "      <td>NaN</td>\n",
       "      <td>54305.0</td>\n",
       "      <td>NaN</td>\n",
       "    </tr>\n",
       "  </tbody>\n",
       "</table>\n",
       "</div>"
      ],
      "text/plain": [
       "         Date  Tourist arrivals at national borders - Thousands  \\\n",
       "0  2014-12-31                                           64995.0   \n",
       "1  2013-12-31                                           60675.0   \n",
       "2  2012-12-31                                           57464.0   \n",
       "3  2011-12-31                                           56177.0   \n",
       "4  2010-12-31                                           52677.0   \n",
       "\n",
       "   Tourism expenditure in the country - US$ Mn  Travel - US$ Mn  \\\n",
       "0                                          NaN          65100.0   \n",
       "1                                          NaN          62584.0   \n",
       "2                                          NaN          57877.0   \n",
       "3                                          NaN          62447.0   \n",
       "4                                          NaN          54305.0   \n",
       "\n",
       "   Passenger transport - US$ Mn  \n",
       "0                           NaN  \n",
       "1                           NaN  \n",
       "2                           NaN  \n",
       "3                           NaN  \n",
       "4                           NaN  "
      ]
     },
     "execution_count": 16,
     "metadata": {},
     "output_type": "execute_result"
    }
   ],
   "source": [
    "import pandas as pd\n",
    "exercise_control=pd.read_csv(\"C:/Users/Ecem/Desktop/BTS/Classical_Data_Analysis/UTOR-INTUR_ESP.csv\")\n",
    "exercise_control.head()"
   ]
  },
  {
   "cell_type": "code",
   "execution_count": null,
   "metadata": {
    "collapsed": true
   },
   "outputs": [],
   "source": [
    "2####the same meaning 'Tourist arrivals at national borders - Thousands' and  'Departures - Thousands' probably only differrence filter of date"
   ]
  },
  {
   "cell_type": "markdown",
   "metadata": {},
   "source": [
    "## Regression model with Statsmodels and without a constant"
   ]
  },
  {
   "cell_type": "code",
   "execution_count": 8,
   "metadata": {
    "collapsed": true
   },
   "outputs": [],
   "source": [
    "import statsmodels.api as sm"
   ]
  },
  {
   "cell_type": "code",
   "execution_count": 9,
   "metadata": {
    "collapsed": true
   },
   "outputs": [],
   "source": [
    "X = exercise[\"Departures - Thousands\"]\n",
    "y = exercise[\"Travel - US$ Mn\"]"
   ]
  },
  {
   "cell_type": "code",
   "execution_count": 10,
   "metadata": {
    "collapsed": true
   },
   "outputs": [],
   "source": [
    "model = sm.OLS(y, X).fit()"
   ]
  },
  {
   "cell_type": "code",
   "execution_count": 11,
   "metadata": {
    "collapsed": true
   },
   "outputs": [],
   "source": [
    "predictions = model.predict(X) "
   ]
  },
  {
   "cell_type": "code",
   "execution_count": 12,
   "metadata": {},
   "outputs": [
    {
     "data": {
      "text/html": [
       "<table class=\"simpletable\">\n",
       "<caption>OLS Regression Results</caption>\n",
       "<tr>\n",
       "  <th>Dep. Variable:</th>     <td>Travel - US$ Mn</td> <th>  R-squared:         </th> <td>   0.976</td>\n",
       "</tr>\n",
       "<tr>\n",
       "  <th>Model:</th>                   <td>OLS</td>       <th>  Adj. R-squared:    </th> <td>   0.975</td>\n",
       "</tr>\n",
       "<tr>\n",
       "  <th>Method:</th>             <td>Least Squares</td>  <th>  F-statistic:       </th> <td>   784.6</td>\n",
       "</tr>\n",
       "<tr>\n",
       "  <th>Date:</th>             <td>Fri, 13 Oct 2017</td> <th>  Prob (F-statistic):</th> <td>6.48e-17</td>\n",
       "</tr>\n",
       "<tr>\n",
       "  <th>Time:</th>                 <td>09:36:05</td>     <th>  Log-Likelihood:    </th> <td> -180.83</td>\n",
       "</tr>\n",
       "<tr>\n",
       "  <th>No. Observations:</th>      <td>    20</td>      <th>  AIC:               </th> <td>   363.7</td>\n",
       "</tr>\n",
       "<tr>\n",
       "  <th>Df Residuals:</th>          <td>    19</td>      <th>  BIC:               </th> <td>   364.7</td>\n",
       "</tr>\n",
       "<tr>\n",
       "  <th>Df Model:</th>              <td>     1</td>      <th>                     </th>     <td> </td>   \n",
       "</tr>\n",
       "<tr>\n",
       "  <th>Covariance Type:</th>      <td>nonrobust</td>    <th>                     </th>     <td> </td>   \n",
       "</tr>\n",
       "</table>\n",
       "<table class=\"simpletable\">\n",
       "<tr>\n",
       "             <td></td>               <th>coef</th>     <th>std err</th>      <th>t</th>      <th>P>|t|</th>  <th>[0.025</th>    <th>0.975]</th>  \n",
       "</tr>\n",
       "<tr>\n",
       "  <th>Departures - Thousands</th> <td>    1.4936</td> <td>    0.053</td> <td>   28.011</td> <td> 0.000</td> <td>    1.382</td> <td>    1.605</td>\n",
       "</tr>\n",
       "</table>\n",
       "<table class=\"simpletable\">\n",
       "<tr>\n",
       "  <th>Omnibus:</th>       <td> 1.502</td> <th>  Durbin-Watson:     </th> <td>   0.912</td>\n",
       "</tr>\n",
       "<tr>\n",
       "  <th>Prob(Omnibus):</th> <td> 0.472</td> <th>  Jarque-Bera (JB):  </th> <td>   1.247</td>\n",
       "</tr>\n",
       "<tr>\n",
       "  <th>Skew:</th>          <td> 0.560</td> <th>  Prob(JB):          </th> <td>   0.536</td>\n",
       "</tr>\n",
       "<tr>\n",
       "  <th>Kurtosis:</th>      <td> 2.510</td> <th>  Cond. No.          </th> <td>    1.00</td>\n",
       "</tr>\n",
       "</table>"
      ],
      "text/plain": [
       "<class 'statsmodels.iolib.summary.Summary'>\n",
       "\"\"\"\n",
       "                            OLS Regression Results                            \n",
       "==============================================================================\n",
       "Dep. Variable:        Travel - US$ Mn   R-squared:                       0.976\n",
       "Model:                            OLS   Adj. R-squared:                  0.975\n",
       "Method:                 Least Squares   F-statistic:                     784.6\n",
       "Date:                Fri, 13 Oct 2017   Prob (F-statistic):           6.48e-17\n",
       "Time:                        09:36:05   Log-Likelihood:                -180.83\n",
       "No. Observations:                  20   AIC:                             363.7\n",
       "Df Residuals:                      19   BIC:                             364.7\n",
       "Df Model:                           1                                         \n",
       "Covariance Type:            nonrobust                                         \n",
       "==========================================================================================\n",
       "                             coef    std err          t      P>|t|      [0.025      0.975]\n",
       "------------------------------------------------------------------------------------------\n",
       "Departures - Thousands     1.4936      0.053     28.011      0.000       1.382       1.605\n",
       "==============================================================================\n",
       "Omnibus:                        1.502   Durbin-Watson:                   0.912\n",
       "Prob(Omnibus):                  0.472   Jarque-Bera (JB):                1.247\n",
       "Skew:                           0.560   Prob(JB):                        0.536\n",
       "Kurtosis:                       2.510   Cond. No.                         1.00\n",
       "==============================================================================\n",
       "\n",
       "Warnings:\n",
       "[1] Standard Errors assume that the covariance matrix of the errors is correctly specified.\n",
       "\"\"\""
      ]
     },
     "execution_count": 12,
     "metadata": {},
     "output_type": "execute_result"
    }
   ],
   "source": [
    "model.summary()"
   ]
  },
  {
   "cell_type": "markdown",
   "metadata": {},
   "source": [
    "### Interpreting the Table "
   ]
  },
  {
   "cell_type": "markdown",
   "metadata": {
    "collapsed": true
   },
   "source": [
    "there is a 95% confidence; \"Tourist arrivals at national borders - Thousands\" variable increases by 1, the predicted value of \"Travel - US$ Mn\" increases by 1.4936. R-Square Means:Using \"Tourist arrivals at national borders - Thousands\" variables, the percentage of explain model,0.976"
   ]
  },
  {
   "cell_type": "markdown",
   "metadata": {},
   "source": [
    "## Regression model with Statsmodels and with a constant"
   ]
  },
  {
   "cell_type": "code",
   "execution_count": 14,
   "metadata": {
    "collapsed": true
   },
   "outputs": [],
   "source": [
    "import statsmodels.api as sm\n",
    "\n",
    "X = exercise[\"Departures - Thousands\"]\n",
    "y = exercise[\"Travel - US$ Mn\"]"
   ]
  },
  {
   "cell_type": "code",
   "execution_count": 15,
   "metadata": {},
   "outputs": [
    {
     "data": {
      "text/html": [
       "<table class=\"simpletable\">\n",
       "<caption>OLS Regression Results</caption>\n",
       "<tr>\n",
       "  <th>Dep. Variable:</th>     <td>Travel - US$ Mn</td> <th>  R-squared:         </th> <td>   0.877</td>\n",
       "</tr>\n",
       "<tr>\n",
       "  <th>Model:</th>                   <td>OLS</td>       <th>  Adj. R-squared:    </th> <td>   0.870</td>\n",
       "</tr>\n",
       "<tr>\n",
       "  <th>Method:</th>             <td>Least Squares</td>  <th>  F-statistic:       </th> <td>   128.4</td>\n",
       "</tr>\n",
       "<tr>\n",
       "  <th>Date:</th>             <td>Fri, 13 Oct 2017</td> <th>  Prob (F-statistic):</th> <td>1.26e-09</td>\n",
       "</tr>\n",
       "<tr>\n",
       "  <th>Time:</th>                 <td>09:38:05</td>     <th>  Log-Likelihood:    </th> <td> -180.42</td>\n",
       "</tr>\n",
       "<tr>\n",
       "  <th>No. Observations:</th>      <td>    20</td>      <th>  AIC:               </th> <td>   364.8</td>\n",
       "</tr>\n",
       "<tr>\n",
       "  <th>Df Residuals:</th>          <td>    18</td>      <th>  BIC:               </th> <td>   366.8</td>\n",
       "</tr>\n",
       "<tr>\n",
       "  <th>Df Model:</th>              <td>     1</td>      <th>                     </th>     <td> </td>   \n",
       "</tr>\n",
       "<tr>\n",
       "  <th>Covariance Type:</th>      <td>nonrobust</td>    <th>                     </th>     <td> </td>   \n",
       "</tr>\n",
       "</table>\n",
       "<table class=\"simpletable\">\n",
       "<tr>\n",
       "             <td></td>               <th>coef</th>     <th>std err</th>      <th>t</th>      <th>P>|t|</th>  <th>[0.025</th>    <th>0.975]</th>  \n",
       "</tr>\n",
       "<tr>\n",
       "  <th>const</th>                  <td>  939.2279</td> <td> 1084.358</td> <td>    0.866</td> <td> 0.398</td> <td>-1338.923</td> <td> 3217.379</td>\n",
       "</tr>\n",
       "<tr>\n",
       "  <th>Departures - Thousands</th> <td>    1.3975</td> <td>    0.123</td> <td>   11.332</td> <td> 0.000</td> <td>    1.138</td> <td>    1.657</td>\n",
       "</tr>\n",
       "</table>\n",
       "<table class=\"simpletable\">\n",
       "<tr>\n",
       "  <th>Omnibus:</th>       <td> 2.126</td> <th>  Durbin-Watson:     </th> <td>   0.871</td>\n",
       "</tr>\n",
       "<tr>\n",
       "  <th>Prob(Omnibus):</th> <td> 0.345</td> <th>  Jarque-Bera (JB):  </th> <td>   1.741</td>\n",
       "</tr>\n",
       "<tr>\n",
       "  <th>Skew:</th>          <td> 0.673</td> <th>  Prob(JB):          </th> <td>   0.419</td>\n",
       "</tr>\n",
       "<tr>\n",
       "  <th>Kurtosis:</th>      <td> 2.475</td> <th>  Cond. No.          </th> <td>2.02e+04</td>\n",
       "</tr>\n",
       "</table>"
      ],
      "text/plain": [
       "<class 'statsmodels.iolib.summary.Summary'>\n",
       "\"\"\"\n",
       "                            OLS Regression Results                            \n",
       "==============================================================================\n",
       "Dep. Variable:        Travel - US$ Mn   R-squared:                       0.877\n",
       "Model:                            OLS   Adj. R-squared:                  0.870\n",
       "Method:                 Least Squares   F-statistic:                     128.4\n",
       "Date:                Fri, 13 Oct 2017   Prob (F-statistic):           1.26e-09\n",
       "Time:                        09:38:05   Log-Likelihood:                -180.42\n",
       "No. Observations:                  20   AIC:                             364.8\n",
       "Df Residuals:                      18   BIC:                             366.8\n",
       "Df Model:                           1                                         \n",
       "Covariance Type:            nonrobust                                         \n",
       "==========================================================================================\n",
       "                             coef    std err          t      P>|t|      [0.025      0.975]\n",
       "------------------------------------------------------------------------------------------\n",
       "const                    939.2279   1084.358      0.866      0.398   -1338.923    3217.379\n",
       "Departures - Thousands     1.3975      0.123     11.332      0.000       1.138       1.657\n",
       "==============================================================================\n",
       "Omnibus:                        2.126   Durbin-Watson:                   0.871\n",
       "Prob(Omnibus):                  0.345   Jarque-Bera (JB):                1.741\n",
       "Skew:                           0.673   Prob(JB):                        0.419\n",
       "Kurtosis:                       2.475   Cond. No.                     2.02e+04\n",
       "==============================================================================\n",
       "\n",
       "Warnings:\n",
       "[1] Standard Errors assume that the covariance matrix of the errors is correctly specified.\n",
       "[2] The condition number is large, 2.02e+04. This might indicate that there are\n",
       "strong multicollinearity or other numerical problems.\n",
       "\"\"\""
      ]
     },
     "execution_count": 15,
     "metadata": {},
     "output_type": "execute_result"
    }
   ],
   "source": [
    "X = sm.add_constant(X) \n",
    "modelwc = sm.OLS(y, X).fit()\n",
    "predictions = modelwc.predict(X)\n",
    "modelwc.summary()"
   ]
  },
  {
   "cell_type": "markdown",
   "metadata": {},
   "source": [
    "### Interpreting the Table "
   ]
  },
  {
   "cell_type": "markdown",
   "metadata": {
    "collapsed": true
   },
   "source": [
    "there is a 95% confidence;\n",
    "\"Tourist arrivals at national borders - Thousands\" variable increases by 1, the predicted value of \"Travel - US$ Mn\" increases by 1.3975 and y-intercept 939.2279.\n",
    "R-Square Means:Using \"Tourist arrivals at national borders - Thousands\" variables, the percentage of explain model,0.877"
   ]
  }
 ],
 "metadata": {
  "kernelspec": {
   "display_name": "Python 3",
   "language": "python",
   "name": "python3"
  },
  "language_info": {
   "codemirror_mode": {
    "name": "ipython",
    "version": 3
   },
   "file_extension": ".py",
   "mimetype": "text/x-python",
   "name": "python",
   "nbconvert_exporter": "python",
   "pygments_lexer": "ipython3",
   "version": "3.6.2"
  }
 },
 "nbformat": 4,
 "nbformat_minor": 2
}
