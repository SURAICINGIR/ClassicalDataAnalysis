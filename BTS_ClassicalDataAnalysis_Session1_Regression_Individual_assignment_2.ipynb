{
 "cells": [
  {
   "cell_type": "markdown",
   "metadata": {},
   "source": [
    "# Subject: Classical Data Analysis\n",
    "\n",
    "## Session 1 - Regression\n",
    "\n",
    "### Individual assignment 2\n",
    "\n",
    "Elaborate with only the first feature of the \"iris\" sklearn dataset, in order to illustrate a two-dimensional plot of this regression technique. \n",
    "\n",
    "Use the field “sepal width (cm)” as independent variable and the field “sepal length (cm)” as dependent variable.\n",
    "\n",
    "Calculate the coefficients, the residual sum of squares and the variance score.\n",
    "\n",
    "- Interpret and discuss the Regression Results.\n",
    "- Commit scripts in your GitHub account. You should export your solution code (.ipynb notebook) and push it to your repository “ClassicalDataAnalysis”.\n",
    "\n",
    "The following are the tasks that should complete and synchronize with your repository “ClassicalDataAnalysis” until October 13. Please notice that none of these tasks is graded, however it’s important that you correctly understand and complete them in order to be sure that you won’t have problems with further assignments."
   ]
  },
  {
   "cell_type": "markdown",
   "metadata": {},
   "source": [
    "# Import the Python Libraries"
   ]
  },
  {
   "cell_type": "code",
   "execution_count": 1,
   "metadata": {
    "collapsed": true
   },
   "outputs": [],
   "source": [
    "import matplotlib.pyplot as plt\n",
    "import numpy as np\n",
    "from sklearn import datasets, linear_model\n",
    "from sklearn.metrics import mean_squared_error, r2_score"
   ]
  },
  {
   "cell_type": "markdown",
   "metadata": {},
   "source": [
    "# Load the iris dataset"
   ]
  },
  {
   "cell_type": "code",
   "execution_count": 2,
   "metadata": {
    "collapsed": true
   },
   "outputs": [],
   "source": [
    "iris = datasets.load_iris()"
   ]
  },
  {
   "cell_type": "code",
   "execution_count": 5,
   "metadata": {},
   "outputs": [
    {
     "name": "stdout",
     "output_type": "stream",
     "text": [
      "Iris Plants Database\n",
      "====================\n",
      "\n",
      "Notes\n",
      "-----\n",
      "Data Set Characteristics:\n",
      "    :Number of Instances: 150 (50 in each of three classes)\n",
      "    :Number of Attributes: 4 numeric, predictive attributes and the class\n",
      "    :Attribute Information:\n",
      "        - sepal length in cm\n",
      "        - sepal width in cm\n",
      "        - petal length in cm\n",
      "        - petal width in cm\n",
      "        - class:\n",
      "                - Iris-Setosa\n",
      "                - Iris-Versicolour\n",
      "                - Iris-Virginica\n",
      "    :Summary Statistics:\n",
      "\n",
      "    ============== ==== ==== ======= ===== ====================\n",
      "                    Min  Max   Mean    SD   Class Correlation\n",
      "    ============== ==== ==== ======= ===== ====================\n",
      "    sepal length:   4.3  7.9   5.84   0.83    0.7826\n",
      "    sepal width:    2.0  4.4   3.05   0.43   -0.4194\n",
      "    petal length:   1.0  6.9   3.76   1.76    0.9490  (high!)\n",
      "    petal width:    0.1  2.5   1.20  0.76     0.9565  (high!)\n",
      "    ============== ==== ==== ======= ===== ====================\n",
      "\n",
      "    :Missing Attribute Values: None\n",
      "    :Class Distribution: 33.3% for each of 3 classes.\n",
      "    :Creator: R.A. Fisher\n",
      "    :Donor: Michael Marshall (MARSHALL%PLU@io.arc.nasa.gov)\n",
      "    :Date: July, 1988\n",
      "\n",
      "This is a copy of UCI ML iris datasets.\n",
      "http://archive.ics.uci.edu/ml/datasets/Iris\n",
      "\n",
      "The famous Iris database, first used by Sir R.A Fisher\n",
      "\n",
      "This is perhaps the best known database to be found in the\n",
      "pattern recognition literature.  Fisher's paper is a classic in the field and\n",
      "is referenced frequently to this day.  (See Duda & Hart, for example.)  The\n",
      "data set contains 3 classes of 50 instances each, where each class refers to a\n",
      "type of iris plant.  One class is linearly separable from the other 2; the\n",
      "latter are NOT linearly separable from each other.\n",
      "\n",
      "References\n",
      "----------\n",
      "   - Fisher,R.A. \"The use of multiple measurements in taxonomic problems\"\n",
      "     Annual Eugenics, 7, Part II, 179-188 (1936); also in \"Contributions to\n",
      "     Mathematical Statistics\" (John Wiley, NY, 1950).\n",
      "   - Duda,R.O., & Hart,P.E. (1973) Pattern Classification and Scene Analysis.\n",
      "     (Q327.D83) John Wiley & Sons.  ISBN 0-471-22361-1.  See page 218.\n",
      "   - Dasarathy, B.V. (1980) \"Nosing Around the Neighborhood: A New System\n",
      "     Structure and Classification Rule for Recognition in Partially Exposed\n",
      "     Environments\".  IEEE Transactions on Pattern Analysis and Machine\n",
      "     Intelligence, Vol. PAMI-2, No. 1, 67-71.\n",
      "   - Gates, G.W. (1972) \"The Reduced Nearest Neighbor Rule\".  IEEE Transactions\n",
      "     on Information Theory, May 1972, 431-433.\n",
      "   - See also: 1988 MLC Proceedings, 54-64.  Cheeseman et al\"s AUTOCLASS II\n",
      "     conceptual clustering system finds 3 classes in the data.\n",
      "   - Many, many more ...\n",
      "\n"
     ]
    }
   ],
   "source": [
    "print (iris.DESCR)"
   ]
  },
  {
   "cell_type": "code",
   "execution_count": 6,
   "metadata": {},
   "outputs": [
    {
     "data": {
      "text/plain": [
       "['sepal length (cm)',\n",
       " 'sepal width (cm)',\n",
       " 'petal length (cm)',\n",
       " 'petal width (cm)']"
      ]
     },
     "execution_count": 6,
     "metadata": {},
     "output_type": "execute_result"
    }
   ],
   "source": [
    "iris.feature_names"
   ]
  },
  {
   "cell_type": "code",
   "execution_count": 7,
   "metadata": {},
   "outputs": [
    {
     "data": {
      "text/plain": [
       "{'DESCR': 'Iris Plants Database\\n====================\\n\\nNotes\\n-----\\nData Set Characteristics:\\n    :Number of Instances: 150 (50 in each of three classes)\\n    :Number of Attributes: 4 numeric, predictive attributes and the class\\n    :Attribute Information:\\n        - sepal length in cm\\n        - sepal width in cm\\n        - petal length in cm\\n        - petal width in cm\\n        - class:\\n                - Iris-Setosa\\n                - Iris-Versicolour\\n                - Iris-Virginica\\n    :Summary Statistics:\\n\\n    ============== ==== ==== ======= ===== ====================\\n                    Min  Max   Mean    SD   Class Correlation\\n    ============== ==== ==== ======= ===== ====================\\n    sepal length:   4.3  7.9   5.84   0.83    0.7826\\n    sepal width:    2.0  4.4   3.05   0.43   -0.4194\\n    petal length:   1.0  6.9   3.76   1.76    0.9490  (high!)\\n    petal width:    0.1  2.5   1.20  0.76     0.9565  (high!)\\n    ============== ==== ==== ======= ===== ====================\\n\\n    :Missing Attribute Values: None\\n    :Class Distribution: 33.3% for each of 3 classes.\\n    :Creator: R.A. Fisher\\n    :Donor: Michael Marshall (MARSHALL%PLU@io.arc.nasa.gov)\\n    :Date: July, 1988\\n\\nThis is a copy of UCI ML iris datasets.\\nhttp://archive.ics.uci.edu/ml/datasets/Iris\\n\\nThe famous Iris database, first used by Sir R.A Fisher\\n\\nThis is perhaps the best known database to be found in the\\npattern recognition literature.  Fisher\\'s paper is a classic in the field and\\nis referenced frequently to this day.  (See Duda & Hart, for example.)  The\\ndata set contains 3 classes of 50 instances each, where each class refers to a\\ntype of iris plant.  One class is linearly separable from the other 2; the\\nlatter are NOT linearly separable from each other.\\n\\nReferences\\n----------\\n   - Fisher,R.A. \"The use of multiple measurements in taxonomic problems\"\\n     Annual Eugenics, 7, Part II, 179-188 (1936); also in \"Contributions to\\n     Mathematical Statistics\" (John Wiley, NY, 1950).\\n   - Duda,R.O., & Hart,P.E. (1973) Pattern Classification and Scene Analysis.\\n     (Q327.D83) John Wiley & Sons.  ISBN 0-471-22361-1.  See page 218.\\n   - Dasarathy, B.V. (1980) \"Nosing Around the Neighborhood: A New System\\n     Structure and Classification Rule for Recognition in Partially Exposed\\n     Environments\".  IEEE Transactions on Pattern Analysis and Machine\\n     Intelligence, Vol. PAMI-2, No. 1, 67-71.\\n   - Gates, G.W. (1972) \"The Reduced Nearest Neighbor Rule\".  IEEE Transactions\\n     on Information Theory, May 1972, 431-433.\\n   - See also: 1988 MLC Proceedings, 54-64.  Cheeseman et al\"s AUTOCLASS II\\n     conceptual clustering system finds 3 classes in the data.\\n   - Many, many more ...\\n',\n",
       " 'data': array([[ 5.1,  3.5,  1.4,  0.2],\n",
       "        [ 4.9,  3. ,  1.4,  0.2],\n",
       "        [ 4.7,  3.2,  1.3,  0.2],\n",
       "        [ 4.6,  3.1,  1.5,  0.2],\n",
       "        [ 5. ,  3.6,  1.4,  0.2],\n",
       "        [ 5.4,  3.9,  1.7,  0.4],\n",
       "        [ 4.6,  3.4,  1.4,  0.3],\n",
       "        [ 5. ,  3.4,  1.5,  0.2],\n",
       "        [ 4.4,  2.9,  1.4,  0.2],\n",
       "        [ 4.9,  3.1,  1.5,  0.1],\n",
       "        [ 5.4,  3.7,  1.5,  0.2],\n",
       "        [ 4.8,  3.4,  1.6,  0.2],\n",
       "        [ 4.8,  3. ,  1.4,  0.1],\n",
       "        [ 4.3,  3. ,  1.1,  0.1],\n",
       "        [ 5.8,  4. ,  1.2,  0.2],\n",
       "        [ 5.7,  4.4,  1.5,  0.4],\n",
       "        [ 5.4,  3.9,  1.3,  0.4],\n",
       "        [ 5.1,  3.5,  1.4,  0.3],\n",
       "        [ 5.7,  3.8,  1.7,  0.3],\n",
       "        [ 5.1,  3.8,  1.5,  0.3],\n",
       "        [ 5.4,  3.4,  1.7,  0.2],\n",
       "        [ 5.1,  3.7,  1.5,  0.4],\n",
       "        [ 4.6,  3.6,  1. ,  0.2],\n",
       "        [ 5.1,  3.3,  1.7,  0.5],\n",
       "        [ 4.8,  3.4,  1.9,  0.2],\n",
       "        [ 5. ,  3. ,  1.6,  0.2],\n",
       "        [ 5. ,  3.4,  1.6,  0.4],\n",
       "        [ 5.2,  3.5,  1.5,  0.2],\n",
       "        [ 5.2,  3.4,  1.4,  0.2],\n",
       "        [ 4.7,  3.2,  1.6,  0.2],\n",
       "        [ 4.8,  3.1,  1.6,  0.2],\n",
       "        [ 5.4,  3.4,  1.5,  0.4],\n",
       "        [ 5.2,  4.1,  1.5,  0.1],\n",
       "        [ 5.5,  4.2,  1.4,  0.2],\n",
       "        [ 4.9,  3.1,  1.5,  0.1],\n",
       "        [ 5. ,  3.2,  1.2,  0.2],\n",
       "        [ 5.5,  3.5,  1.3,  0.2],\n",
       "        [ 4.9,  3.1,  1.5,  0.1],\n",
       "        [ 4.4,  3. ,  1.3,  0.2],\n",
       "        [ 5.1,  3.4,  1.5,  0.2],\n",
       "        [ 5. ,  3.5,  1.3,  0.3],\n",
       "        [ 4.5,  2.3,  1.3,  0.3],\n",
       "        [ 4.4,  3.2,  1.3,  0.2],\n",
       "        [ 5. ,  3.5,  1.6,  0.6],\n",
       "        [ 5.1,  3.8,  1.9,  0.4],\n",
       "        [ 4.8,  3. ,  1.4,  0.3],\n",
       "        [ 5.1,  3.8,  1.6,  0.2],\n",
       "        [ 4.6,  3.2,  1.4,  0.2],\n",
       "        [ 5.3,  3.7,  1.5,  0.2],\n",
       "        [ 5. ,  3.3,  1.4,  0.2],\n",
       "        [ 7. ,  3.2,  4.7,  1.4],\n",
       "        [ 6.4,  3.2,  4.5,  1.5],\n",
       "        [ 6.9,  3.1,  4.9,  1.5],\n",
       "        [ 5.5,  2.3,  4. ,  1.3],\n",
       "        [ 6.5,  2.8,  4.6,  1.5],\n",
       "        [ 5.7,  2.8,  4.5,  1.3],\n",
       "        [ 6.3,  3.3,  4.7,  1.6],\n",
       "        [ 4.9,  2.4,  3.3,  1. ],\n",
       "        [ 6.6,  2.9,  4.6,  1.3],\n",
       "        [ 5.2,  2.7,  3.9,  1.4],\n",
       "        [ 5. ,  2. ,  3.5,  1. ],\n",
       "        [ 5.9,  3. ,  4.2,  1.5],\n",
       "        [ 6. ,  2.2,  4. ,  1. ],\n",
       "        [ 6.1,  2.9,  4.7,  1.4],\n",
       "        [ 5.6,  2.9,  3.6,  1.3],\n",
       "        [ 6.7,  3.1,  4.4,  1.4],\n",
       "        [ 5.6,  3. ,  4.5,  1.5],\n",
       "        [ 5.8,  2.7,  4.1,  1. ],\n",
       "        [ 6.2,  2.2,  4.5,  1.5],\n",
       "        [ 5.6,  2.5,  3.9,  1.1],\n",
       "        [ 5.9,  3.2,  4.8,  1.8],\n",
       "        [ 6.1,  2.8,  4. ,  1.3],\n",
       "        [ 6.3,  2.5,  4.9,  1.5],\n",
       "        [ 6.1,  2.8,  4.7,  1.2],\n",
       "        [ 6.4,  2.9,  4.3,  1.3],\n",
       "        [ 6.6,  3. ,  4.4,  1.4],\n",
       "        [ 6.8,  2.8,  4.8,  1.4],\n",
       "        [ 6.7,  3. ,  5. ,  1.7],\n",
       "        [ 6. ,  2.9,  4.5,  1.5],\n",
       "        [ 5.7,  2.6,  3.5,  1. ],\n",
       "        [ 5.5,  2.4,  3.8,  1.1],\n",
       "        [ 5.5,  2.4,  3.7,  1. ],\n",
       "        [ 5.8,  2.7,  3.9,  1.2],\n",
       "        [ 6. ,  2.7,  5.1,  1.6],\n",
       "        [ 5.4,  3. ,  4.5,  1.5],\n",
       "        [ 6. ,  3.4,  4.5,  1.6],\n",
       "        [ 6.7,  3.1,  4.7,  1.5],\n",
       "        [ 6.3,  2.3,  4.4,  1.3],\n",
       "        [ 5.6,  3. ,  4.1,  1.3],\n",
       "        [ 5.5,  2.5,  4. ,  1.3],\n",
       "        [ 5.5,  2.6,  4.4,  1.2],\n",
       "        [ 6.1,  3. ,  4.6,  1.4],\n",
       "        [ 5.8,  2.6,  4. ,  1.2],\n",
       "        [ 5. ,  2.3,  3.3,  1. ],\n",
       "        [ 5.6,  2.7,  4.2,  1.3],\n",
       "        [ 5.7,  3. ,  4.2,  1.2],\n",
       "        [ 5.7,  2.9,  4.2,  1.3],\n",
       "        [ 6.2,  2.9,  4.3,  1.3],\n",
       "        [ 5.1,  2.5,  3. ,  1.1],\n",
       "        [ 5.7,  2.8,  4.1,  1.3],\n",
       "        [ 6.3,  3.3,  6. ,  2.5],\n",
       "        [ 5.8,  2.7,  5.1,  1.9],\n",
       "        [ 7.1,  3. ,  5.9,  2.1],\n",
       "        [ 6.3,  2.9,  5.6,  1.8],\n",
       "        [ 6.5,  3. ,  5.8,  2.2],\n",
       "        [ 7.6,  3. ,  6.6,  2.1],\n",
       "        [ 4.9,  2.5,  4.5,  1.7],\n",
       "        [ 7.3,  2.9,  6.3,  1.8],\n",
       "        [ 6.7,  2.5,  5.8,  1.8],\n",
       "        [ 7.2,  3.6,  6.1,  2.5],\n",
       "        [ 6.5,  3.2,  5.1,  2. ],\n",
       "        [ 6.4,  2.7,  5.3,  1.9],\n",
       "        [ 6.8,  3. ,  5.5,  2.1],\n",
       "        [ 5.7,  2.5,  5. ,  2. ],\n",
       "        [ 5.8,  2.8,  5.1,  2.4],\n",
       "        [ 6.4,  3.2,  5.3,  2.3],\n",
       "        [ 6.5,  3. ,  5.5,  1.8],\n",
       "        [ 7.7,  3.8,  6.7,  2.2],\n",
       "        [ 7.7,  2.6,  6.9,  2.3],\n",
       "        [ 6. ,  2.2,  5. ,  1.5],\n",
       "        [ 6.9,  3.2,  5.7,  2.3],\n",
       "        [ 5.6,  2.8,  4.9,  2. ],\n",
       "        [ 7.7,  2.8,  6.7,  2. ],\n",
       "        [ 6.3,  2.7,  4.9,  1.8],\n",
       "        [ 6.7,  3.3,  5.7,  2.1],\n",
       "        [ 7.2,  3.2,  6. ,  1.8],\n",
       "        [ 6.2,  2.8,  4.8,  1.8],\n",
       "        [ 6.1,  3. ,  4.9,  1.8],\n",
       "        [ 6.4,  2.8,  5.6,  2.1],\n",
       "        [ 7.2,  3. ,  5.8,  1.6],\n",
       "        [ 7.4,  2.8,  6.1,  1.9],\n",
       "        [ 7.9,  3.8,  6.4,  2. ],\n",
       "        [ 6.4,  2.8,  5.6,  2.2],\n",
       "        [ 6.3,  2.8,  5.1,  1.5],\n",
       "        [ 6.1,  2.6,  5.6,  1.4],\n",
       "        [ 7.7,  3. ,  6.1,  2.3],\n",
       "        [ 6.3,  3.4,  5.6,  2.4],\n",
       "        [ 6.4,  3.1,  5.5,  1.8],\n",
       "        [ 6. ,  3. ,  4.8,  1.8],\n",
       "        [ 6.9,  3.1,  5.4,  2.1],\n",
       "        [ 6.7,  3.1,  5.6,  2.4],\n",
       "        [ 6.9,  3.1,  5.1,  2.3],\n",
       "        [ 5.8,  2.7,  5.1,  1.9],\n",
       "        [ 6.8,  3.2,  5.9,  2.3],\n",
       "        [ 6.7,  3.3,  5.7,  2.5],\n",
       "        [ 6.7,  3. ,  5.2,  2.3],\n",
       "        [ 6.3,  2.5,  5. ,  1.9],\n",
       "        [ 6.5,  3. ,  5.2,  2. ],\n",
       "        [ 6.2,  3.4,  5.4,  2.3],\n",
       "        [ 5.9,  3. ,  5.1,  1.8]]),\n",
       " 'feature_names': ['sepal length (cm)',\n",
       "  'sepal width (cm)',\n",
       "  'petal length (cm)',\n",
       "  'petal width (cm)'],\n",
       " 'target': array([0, 0, 0, 0, 0, 0, 0, 0, 0, 0, 0, 0, 0, 0, 0, 0, 0, 0, 0, 0, 0, 0, 0,\n",
       "        0, 0, 0, 0, 0, 0, 0, 0, 0, 0, 0, 0, 0, 0, 0, 0, 0, 0, 0, 0, 0, 0, 0,\n",
       "        0, 0, 0, 0, 1, 1, 1, 1, 1, 1, 1, 1, 1, 1, 1, 1, 1, 1, 1, 1, 1, 1, 1,\n",
       "        1, 1, 1, 1, 1, 1, 1, 1, 1, 1, 1, 1, 1, 1, 1, 1, 1, 1, 1, 1, 1, 1, 1,\n",
       "        1, 1, 1, 1, 1, 1, 1, 1, 2, 2, 2, 2, 2, 2, 2, 2, 2, 2, 2, 2, 2, 2, 2,\n",
       "        2, 2, 2, 2, 2, 2, 2, 2, 2, 2, 2, 2, 2, 2, 2, 2, 2, 2, 2, 2, 2, 2, 2,\n",
       "        2, 2, 2, 2, 2, 2, 2, 2, 2, 2, 2, 2]),\n",
       " 'target_names': array(['setosa', 'versicolor', 'virginica'],\n",
       "       dtype='<U10')}"
      ]
     },
     "execution_count": 7,
     "metadata": {},
     "output_type": "execute_result"
    }
   ],
   "source": [
    "iris"
   ]
  },
  {
   "cell_type": "markdown",
   "metadata": {},
   "source": [
    "# Use only one feature for the dependent variable (sepal length (cm))"
   ]
  },
  {
   "cell_type": "code",
   "execution_count": 8,
   "metadata": {
    "collapsed": true
   },
   "outputs": [],
   "source": [
    "iris1 = iris.data[:, np.newaxis, 1]"
   ]
  },
  {
   "cell_type": "code",
   "execution_count": 9,
   "metadata": {},
   "outputs": [
    {
     "data": {
      "text/plain": [
       "array([[ 3.5],\n",
       "       [ 3. ],\n",
       "       [ 3.2],\n",
       "       [ 3.1],\n",
       "       [ 3.6],\n",
       "       [ 3.9],\n",
       "       [ 3.4],\n",
       "       [ 3.4],\n",
       "       [ 2.9],\n",
       "       [ 3.1],\n",
       "       [ 3.7],\n",
       "       [ 3.4],\n",
       "       [ 3. ],\n",
       "       [ 3. ],\n",
       "       [ 4. ],\n",
       "       [ 4.4],\n",
       "       [ 3.9],\n",
       "       [ 3.5],\n",
       "       [ 3.8],\n",
       "       [ 3.8],\n",
       "       [ 3.4],\n",
       "       [ 3.7],\n",
       "       [ 3.6],\n",
       "       [ 3.3],\n",
       "       [ 3.4],\n",
       "       [ 3. ],\n",
       "       [ 3.4],\n",
       "       [ 3.5],\n",
       "       [ 3.4],\n",
       "       [ 3.2],\n",
       "       [ 3.1],\n",
       "       [ 3.4],\n",
       "       [ 4.1],\n",
       "       [ 4.2],\n",
       "       [ 3.1],\n",
       "       [ 3.2],\n",
       "       [ 3.5],\n",
       "       [ 3.1],\n",
       "       [ 3. ],\n",
       "       [ 3.4],\n",
       "       [ 3.5],\n",
       "       [ 2.3],\n",
       "       [ 3.2],\n",
       "       [ 3.5],\n",
       "       [ 3.8],\n",
       "       [ 3. ],\n",
       "       [ 3.8],\n",
       "       [ 3.2],\n",
       "       [ 3.7],\n",
       "       [ 3.3],\n",
       "       [ 3.2],\n",
       "       [ 3.2],\n",
       "       [ 3.1],\n",
       "       [ 2.3],\n",
       "       [ 2.8],\n",
       "       [ 2.8],\n",
       "       [ 3.3],\n",
       "       [ 2.4],\n",
       "       [ 2.9],\n",
       "       [ 2.7],\n",
       "       [ 2. ],\n",
       "       [ 3. ],\n",
       "       [ 2.2],\n",
       "       [ 2.9],\n",
       "       [ 2.9],\n",
       "       [ 3.1],\n",
       "       [ 3. ],\n",
       "       [ 2.7],\n",
       "       [ 2.2],\n",
       "       [ 2.5],\n",
       "       [ 3.2],\n",
       "       [ 2.8],\n",
       "       [ 2.5],\n",
       "       [ 2.8],\n",
       "       [ 2.9],\n",
       "       [ 3. ],\n",
       "       [ 2.8],\n",
       "       [ 3. ],\n",
       "       [ 2.9],\n",
       "       [ 2.6],\n",
       "       [ 2.4],\n",
       "       [ 2.4],\n",
       "       [ 2.7],\n",
       "       [ 2.7],\n",
       "       [ 3. ],\n",
       "       [ 3.4],\n",
       "       [ 3.1],\n",
       "       [ 2.3],\n",
       "       [ 3. ],\n",
       "       [ 2.5],\n",
       "       [ 2.6],\n",
       "       [ 3. ],\n",
       "       [ 2.6],\n",
       "       [ 2.3],\n",
       "       [ 2.7],\n",
       "       [ 3. ],\n",
       "       [ 2.9],\n",
       "       [ 2.9],\n",
       "       [ 2.5],\n",
       "       [ 2.8],\n",
       "       [ 3.3],\n",
       "       [ 2.7],\n",
       "       [ 3. ],\n",
       "       [ 2.9],\n",
       "       [ 3. ],\n",
       "       [ 3. ],\n",
       "       [ 2.5],\n",
       "       [ 2.9],\n",
       "       [ 2.5],\n",
       "       [ 3.6],\n",
       "       [ 3.2],\n",
       "       [ 2.7],\n",
       "       [ 3. ],\n",
       "       [ 2.5],\n",
       "       [ 2.8],\n",
       "       [ 3.2],\n",
       "       [ 3. ],\n",
       "       [ 3.8],\n",
       "       [ 2.6],\n",
       "       [ 2.2],\n",
       "       [ 3.2],\n",
       "       [ 2.8],\n",
       "       [ 2.8],\n",
       "       [ 2.7],\n",
       "       [ 3.3],\n",
       "       [ 3.2],\n",
       "       [ 2.8],\n",
       "       [ 3. ],\n",
       "       [ 2.8],\n",
       "       [ 3. ],\n",
       "       [ 2.8],\n",
       "       [ 3.8],\n",
       "       [ 2.8],\n",
       "       [ 2.8],\n",
       "       [ 2.6],\n",
       "       [ 3. ],\n",
       "       [ 3.4],\n",
       "       [ 3.1],\n",
       "       [ 3. ],\n",
       "       [ 3.1],\n",
       "       [ 3.1],\n",
       "       [ 3.1],\n",
       "       [ 2.7],\n",
       "       [ 3.2],\n",
       "       [ 3.3],\n",
       "       [ 3. ],\n",
       "       [ 2.5],\n",
       "       [ 3. ],\n",
       "       [ 3.4],\n",
       "       [ 3. ]])"
      ]
     },
     "execution_count": 9,
     "metadata": {},
     "output_type": "execute_result"
    }
   ],
   "source": [
    "iris1"
   ]
  },
  {
   "cell_type": "markdown",
   "metadata": {},
   "source": [
    "# Split the data of the dependent variable into training/testing sets"
   ]
  },
  {
   "cell_type": "code",
   "execution_count": 11,
   "metadata": {},
   "outputs": [],
   "source": [
    "iris1_train = iris1[:-20]\n",
    "iris1_test = iris1[-20:]     #test-train %80-%20"
   ]
  },
  {
   "cell_type": "code",
   "execution_count": 12,
   "metadata": {},
   "outputs": [
    {
     "data": {
      "text/plain": [
       "array([[ 2.8],\n",
       "       [ 3.8],\n",
       "       [ 2.8],\n",
       "       [ 2.8],\n",
       "       [ 2.6],\n",
       "       [ 3. ],\n",
       "       [ 3.4],\n",
       "       [ 3.1],\n",
       "       [ 3. ],\n",
       "       [ 3.1],\n",
       "       [ 3.1],\n",
       "       [ 3.1],\n",
       "       [ 2.7],\n",
       "       [ 3.2],\n",
       "       [ 3.3],\n",
       "       [ 3. ],\n",
       "       [ 2.5],\n",
       "       [ 3. ],\n",
       "       [ 3.4],\n",
       "       [ 3. ]])"
      ]
     },
     "execution_count": 12,
     "metadata": {},
     "output_type": "execute_result"
    }
   ],
   "source": [
    "iris1_test"
   ]
  },
  {
   "cell_type": "code",
   "execution_count": 13,
   "metadata": {},
   "outputs": [
    {
     "data": {
      "text/plain": [
       "array([[ 3.5],\n",
       "       [ 3. ],\n",
       "       [ 3.2],\n",
       "       [ 3.1],\n",
       "       [ 3.6],\n",
       "       [ 3.9],\n",
       "       [ 3.4],\n",
       "       [ 3.4],\n",
       "       [ 2.9],\n",
       "       [ 3.1],\n",
       "       [ 3.7],\n",
       "       [ 3.4],\n",
       "       [ 3. ],\n",
       "       [ 3. ],\n",
       "       [ 4. ],\n",
       "       [ 4.4],\n",
       "       [ 3.9],\n",
       "       [ 3.5],\n",
       "       [ 3.8],\n",
       "       [ 3.8],\n",
       "       [ 3.4],\n",
       "       [ 3.7],\n",
       "       [ 3.6],\n",
       "       [ 3.3],\n",
       "       [ 3.4],\n",
       "       [ 3. ],\n",
       "       [ 3.4],\n",
       "       [ 3.5],\n",
       "       [ 3.4],\n",
       "       [ 3.2],\n",
       "       [ 3.1],\n",
       "       [ 3.4],\n",
       "       [ 4.1],\n",
       "       [ 4.2],\n",
       "       [ 3.1],\n",
       "       [ 3.2],\n",
       "       [ 3.5],\n",
       "       [ 3.1],\n",
       "       [ 3. ],\n",
       "       [ 3.4],\n",
       "       [ 3.5],\n",
       "       [ 2.3],\n",
       "       [ 3.2],\n",
       "       [ 3.5],\n",
       "       [ 3.8],\n",
       "       [ 3. ],\n",
       "       [ 3.8],\n",
       "       [ 3.2],\n",
       "       [ 3.7],\n",
       "       [ 3.3],\n",
       "       [ 3.2],\n",
       "       [ 3.2],\n",
       "       [ 3.1],\n",
       "       [ 2.3],\n",
       "       [ 2.8],\n",
       "       [ 2.8],\n",
       "       [ 3.3],\n",
       "       [ 2.4],\n",
       "       [ 2.9],\n",
       "       [ 2.7],\n",
       "       [ 2. ],\n",
       "       [ 3. ],\n",
       "       [ 2.2],\n",
       "       [ 2.9],\n",
       "       [ 2.9],\n",
       "       [ 3.1],\n",
       "       [ 3. ],\n",
       "       [ 2.7],\n",
       "       [ 2.2],\n",
       "       [ 2.5],\n",
       "       [ 3.2],\n",
       "       [ 2.8],\n",
       "       [ 2.5],\n",
       "       [ 2.8],\n",
       "       [ 2.9],\n",
       "       [ 3. ],\n",
       "       [ 2.8],\n",
       "       [ 3. ],\n",
       "       [ 2.9],\n",
       "       [ 2.6],\n",
       "       [ 2.4],\n",
       "       [ 2.4],\n",
       "       [ 2.7],\n",
       "       [ 2.7],\n",
       "       [ 3. ],\n",
       "       [ 3.4],\n",
       "       [ 3.1],\n",
       "       [ 2.3],\n",
       "       [ 3. ],\n",
       "       [ 2.5],\n",
       "       [ 2.6],\n",
       "       [ 3. ],\n",
       "       [ 2.6],\n",
       "       [ 2.3],\n",
       "       [ 2.7],\n",
       "       [ 3. ],\n",
       "       [ 2.9],\n",
       "       [ 2.9],\n",
       "       [ 2.5],\n",
       "       [ 2.8],\n",
       "       [ 3.3],\n",
       "       [ 2.7],\n",
       "       [ 3. ],\n",
       "       [ 2.9],\n",
       "       [ 3. ],\n",
       "       [ 3. ],\n",
       "       [ 2.5],\n",
       "       [ 2.9],\n",
       "       [ 2.5],\n",
       "       [ 3.6],\n",
       "       [ 3.2],\n",
       "       [ 2.7],\n",
       "       [ 3. ],\n",
       "       [ 2.5],\n",
       "       [ 2.8],\n",
       "       [ 3.2],\n",
       "       [ 3. ],\n",
       "       [ 3.8],\n",
       "       [ 2.6],\n",
       "       [ 2.2],\n",
       "       [ 3.2],\n",
       "       [ 2.8],\n",
       "       [ 2.8],\n",
       "       [ 2.7],\n",
       "       [ 3.3],\n",
       "       [ 3.2],\n",
       "       [ 2.8],\n",
       "       [ 3. ],\n",
       "       [ 2.8],\n",
       "       [ 3. ]])"
      ]
     },
     "execution_count": 13,
     "metadata": {},
     "output_type": "execute_result"
    }
   ],
   "source": [
    "iris1_train"
   ]
  },
  {
   "cell_type": "markdown",
   "metadata": {},
   "source": [
    "# Use only one feature for the independent variable (sepal width (cm))"
   ]
  },
  {
   "cell_type": "code",
   "execution_count": 15,
   "metadata": {
    "collapsed": true
   },
   "outputs": [],
   "source": [
    "iris2 = iris.data[:, np.newaxis, 2]"
   ]
  },
  {
   "cell_type": "code",
   "execution_count": 16,
   "metadata": {},
   "outputs": [
    {
     "data": {
      "text/plain": [
       "array([[ 1.4],\n",
       "       [ 1.4],\n",
       "       [ 1.3],\n",
       "       [ 1.5],\n",
       "       [ 1.4],\n",
       "       [ 1.7],\n",
       "       [ 1.4],\n",
       "       [ 1.5],\n",
       "       [ 1.4],\n",
       "       [ 1.5],\n",
       "       [ 1.5],\n",
       "       [ 1.6],\n",
       "       [ 1.4],\n",
       "       [ 1.1],\n",
       "       [ 1.2],\n",
       "       [ 1.5],\n",
       "       [ 1.3],\n",
       "       [ 1.4],\n",
       "       [ 1.7],\n",
       "       [ 1.5],\n",
       "       [ 1.7],\n",
       "       [ 1.5],\n",
       "       [ 1. ],\n",
       "       [ 1.7],\n",
       "       [ 1.9],\n",
       "       [ 1.6],\n",
       "       [ 1.6],\n",
       "       [ 1.5],\n",
       "       [ 1.4],\n",
       "       [ 1.6],\n",
       "       [ 1.6],\n",
       "       [ 1.5],\n",
       "       [ 1.5],\n",
       "       [ 1.4],\n",
       "       [ 1.5],\n",
       "       [ 1.2],\n",
       "       [ 1.3],\n",
       "       [ 1.5],\n",
       "       [ 1.3],\n",
       "       [ 1.5],\n",
       "       [ 1.3],\n",
       "       [ 1.3],\n",
       "       [ 1.3],\n",
       "       [ 1.6],\n",
       "       [ 1.9],\n",
       "       [ 1.4],\n",
       "       [ 1.6],\n",
       "       [ 1.4],\n",
       "       [ 1.5],\n",
       "       [ 1.4],\n",
       "       [ 4.7],\n",
       "       [ 4.5],\n",
       "       [ 4.9],\n",
       "       [ 4. ],\n",
       "       [ 4.6],\n",
       "       [ 4.5],\n",
       "       [ 4.7],\n",
       "       [ 3.3],\n",
       "       [ 4.6],\n",
       "       [ 3.9],\n",
       "       [ 3.5],\n",
       "       [ 4.2],\n",
       "       [ 4. ],\n",
       "       [ 4.7],\n",
       "       [ 3.6],\n",
       "       [ 4.4],\n",
       "       [ 4.5],\n",
       "       [ 4.1],\n",
       "       [ 4.5],\n",
       "       [ 3.9],\n",
       "       [ 4.8],\n",
       "       [ 4. ],\n",
       "       [ 4.9],\n",
       "       [ 4.7],\n",
       "       [ 4.3],\n",
       "       [ 4.4],\n",
       "       [ 4.8],\n",
       "       [ 5. ],\n",
       "       [ 4.5],\n",
       "       [ 3.5],\n",
       "       [ 3.8],\n",
       "       [ 3.7],\n",
       "       [ 3.9],\n",
       "       [ 5.1],\n",
       "       [ 4.5],\n",
       "       [ 4.5],\n",
       "       [ 4.7],\n",
       "       [ 4.4],\n",
       "       [ 4.1],\n",
       "       [ 4. ],\n",
       "       [ 4.4],\n",
       "       [ 4.6],\n",
       "       [ 4. ],\n",
       "       [ 3.3],\n",
       "       [ 4.2],\n",
       "       [ 4.2],\n",
       "       [ 4.2],\n",
       "       [ 4.3],\n",
       "       [ 3. ],\n",
       "       [ 4.1],\n",
       "       [ 6. ],\n",
       "       [ 5.1],\n",
       "       [ 5.9],\n",
       "       [ 5.6],\n",
       "       [ 5.8],\n",
       "       [ 6.6],\n",
       "       [ 4.5],\n",
       "       [ 6.3],\n",
       "       [ 5.8],\n",
       "       [ 6.1],\n",
       "       [ 5.1],\n",
       "       [ 5.3],\n",
       "       [ 5.5],\n",
       "       [ 5. ],\n",
       "       [ 5.1],\n",
       "       [ 5.3],\n",
       "       [ 5.5],\n",
       "       [ 6.7],\n",
       "       [ 6.9],\n",
       "       [ 5. ],\n",
       "       [ 5.7],\n",
       "       [ 4.9],\n",
       "       [ 6.7],\n",
       "       [ 4.9],\n",
       "       [ 5.7],\n",
       "       [ 6. ],\n",
       "       [ 4.8],\n",
       "       [ 4.9],\n",
       "       [ 5.6],\n",
       "       [ 5.8],\n",
       "       [ 6.1],\n",
       "       [ 6.4],\n",
       "       [ 5.6],\n",
       "       [ 5.1],\n",
       "       [ 5.6],\n",
       "       [ 6.1],\n",
       "       [ 5.6],\n",
       "       [ 5.5],\n",
       "       [ 4.8],\n",
       "       [ 5.4],\n",
       "       [ 5.6],\n",
       "       [ 5.1],\n",
       "       [ 5.1],\n",
       "       [ 5.9],\n",
       "       [ 5.7],\n",
       "       [ 5.2],\n",
       "       [ 5. ],\n",
       "       [ 5.2],\n",
       "       [ 5.4],\n",
       "       [ 5.1]])"
      ]
     },
     "execution_count": 16,
     "metadata": {},
     "output_type": "execute_result"
    }
   ],
   "source": [
    "iris2"
   ]
  },
  {
   "cell_type": "markdown",
   "metadata": {},
   "source": [
    "# Split the data of the independent variable into training/testing sets"
   ]
  },
  {
   "cell_type": "code",
   "execution_count": 17,
   "metadata": {
    "collapsed": true
   },
   "outputs": [],
   "source": [
    "iris2_train = iris2[:-20]\n",
    "iris2_test = iris2[-20:]"
   ]
  },
  {
   "cell_type": "code",
   "execution_count": 18,
   "metadata": {},
   "outputs": [
    {
     "data": {
      "text/plain": [
       "array([[ 1.4],\n",
       "       [ 1.4],\n",
       "       [ 1.3],\n",
       "       [ 1.5],\n",
       "       [ 1.4],\n",
       "       [ 1.7],\n",
       "       [ 1.4],\n",
       "       [ 1.5],\n",
       "       [ 1.4],\n",
       "       [ 1.5],\n",
       "       [ 1.5],\n",
       "       [ 1.6],\n",
       "       [ 1.4],\n",
       "       [ 1.1],\n",
       "       [ 1.2],\n",
       "       [ 1.5],\n",
       "       [ 1.3],\n",
       "       [ 1.4],\n",
       "       [ 1.7],\n",
       "       [ 1.5],\n",
       "       [ 1.7],\n",
       "       [ 1.5],\n",
       "       [ 1. ],\n",
       "       [ 1.7],\n",
       "       [ 1.9],\n",
       "       [ 1.6],\n",
       "       [ 1.6],\n",
       "       [ 1.5],\n",
       "       [ 1.4],\n",
       "       [ 1.6],\n",
       "       [ 1.6],\n",
       "       [ 1.5],\n",
       "       [ 1.5],\n",
       "       [ 1.4],\n",
       "       [ 1.5],\n",
       "       [ 1.2],\n",
       "       [ 1.3],\n",
       "       [ 1.5],\n",
       "       [ 1.3],\n",
       "       [ 1.5],\n",
       "       [ 1.3],\n",
       "       [ 1.3],\n",
       "       [ 1.3],\n",
       "       [ 1.6],\n",
       "       [ 1.9],\n",
       "       [ 1.4],\n",
       "       [ 1.6],\n",
       "       [ 1.4],\n",
       "       [ 1.5],\n",
       "       [ 1.4],\n",
       "       [ 4.7],\n",
       "       [ 4.5],\n",
       "       [ 4.9],\n",
       "       [ 4. ],\n",
       "       [ 4.6],\n",
       "       [ 4.5],\n",
       "       [ 4.7],\n",
       "       [ 3.3],\n",
       "       [ 4.6],\n",
       "       [ 3.9],\n",
       "       [ 3.5],\n",
       "       [ 4.2],\n",
       "       [ 4. ],\n",
       "       [ 4.7],\n",
       "       [ 3.6],\n",
       "       [ 4.4],\n",
       "       [ 4.5],\n",
       "       [ 4.1],\n",
       "       [ 4.5],\n",
       "       [ 3.9],\n",
       "       [ 4.8],\n",
       "       [ 4. ],\n",
       "       [ 4.9],\n",
       "       [ 4.7],\n",
       "       [ 4.3],\n",
       "       [ 4.4],\n",
       "       [ 4.8],\n",
       "       [ 5. ],\n",
       "       [ 4.5],\n",
       "       [ 3.5],\n",
       "       [ 3.8],\n",
       "       [ 3.7],\n",
       "       [ 3.9],\n",
       "       [ 5.1],\n",
       "       [ 4.5],\n",
       "       [ 4.5],\n",
       "       [ 4.7],\n",
       "       [ 4.4],\n",
       "       [ 4.1],\n",
       "       [ 4. ],\n",
       "       [ 4.4],\n",
       "       [ 4.6],\n",
       "       [ 4. ],\n",
       "       [ 3.3],\n",
       "       [ 4.2],\n",
       "       [ 4.2],\n",
       "       [ 4.2],\n",
       "       [ 4.3],\n",
       "       [ 3. ],\n",
       "       [ 4.1],\n",
       "       [ 6. ],\n",
       "       [ 5.1],\n",
       "       [ 5.9],\n",
       "       [ 5.6],\n",
       "       [ 5.8],\n",
       "       [ 6.6],\n",
       "       [ 4.5],\n",
       "       [ 6.3],\n",
       "       [ 5.8],\n",
       "       [ 6.1],\n",
       "       [ 5.1],\n",
       "       [ 5.3],\n",
       "       [ 5.5],\n",
       "       [ 5. ],\n",
       "       [ 5.1],\n",
       "       [ 5.3],\n",
       "       [ 5.5],\n",
       "       [ 6.7],\n",
       "       [ 6.9],\n",
       "       [ 5. ],\n",
       "       [ 5.7],\n",
       "       [ 4.9],\n",
       "       [ 6.7],\n",
       "       [ 4.9],\n",
       "       [ 5.7],\n",
       "       [ 6. ],\n",
       "       [ 4.8],\n",
       "       [ 4.9],\n",
       "       [ 5.6],\n",
       "       [ 5.8]])"
      ]
     },
     "execution_count": 18,
     "metadata": {},
     "output_type": "execute_result"
    }
   ],
   "source": [
    "iris2_train"
   ]
  },
  {
   "cell_type": "code",
   "execution_count": 19,
   "metadata": {},
   "outputs": [
    {
     "data": {
      "text/plain": [
       "array([[ 6.1],\n",
       "       [ 6.4],\n",
       "       [ 5.6],\n",
       "       [ 5.1],\n",
       "       [ 5.6],\n",
       "       [ 6.1],\n",
       "       [ 5.6],\n",
       "       [ 5.5],\n",
       "       [ 4.8],\n",
       "       [ 5.4],\n",
       "       [ 5.6],\n",
       "       [ 5.1],\n",
       "       [ 5.1],\n",
       "       [ 5.9],\n",
       "       [ 5.7],\n",
       "       [ 5.2],\n",
       "       [ 5. ],\n",
       "       [ 5.2],\n",
       "       [ 5.4],\n",
       "       [ 5.1]])"
      ]
     },
     "execution_count": 19,
     "metadata": {},
     "output_type": "execute_result"
    }
   ],
   "source": [
    "iris2_test"
   ]
  },
  {
   "cell_type": "markdown",
   "metadata": {},
   "source": [
    "# Create linear regression object"
   ]
  },
  {
   "cell_type": "code",
   "execution_count": 20,
   "metadata": {
    "collapsed": true
   },
   "outputs": [],
   "source": [
    "regresyon = linear_model.LinearRegression()"
   ]
  },
  {
   "cell_type": "markdown",
   "metadata": {},
   "source": [
    "# Train the model using the training sets"
   ]
  },
  {
   "cell_type": "code",
   "execution_count": 21,
   "metadata": {},
   "outputs": [
    {
     "data": {
      "text/plain": [
       "LinearRegression(copy_X=True, fit_intercept=True, n_jobs=1, normalize=False)"
      ]
     },
     "execution_count": 21,
     "metadata": {},
     "output_type": "execute_result"
    }
   ],
   "source": [
    "regresyon.fit(iris2_train, iris1_train)"
   ]
  },
  {
   "cell_type": "markdown",
   "metadata": {},
   "source": [
    "# Make predictions using the testing set"
   ]
  },
  {
   "cell_type": "code",
   "execution_count": 22,
   "metadata": {
    "collapsed": true
   },
   "outputs": [],
   "source": [
    "iris1_pred = regresyon.predict(iris2_test)"
   ]
  },
  {
   "cell_type": "markdown",
   "metadata": {},
   "source": [
    "# The coefficients"
   ]
  },
  {
   "cell_type": "code",
   "execution_count": 24,
   "metadata": {},
   "outputs": [
    {
     "name": "stdout",
     "output_type": "stream",
     "text": [
      "Coefficients: \n",
      " [[-0.12301775]]\n"
     ]
    }
   ],
   "source": [
    "print('Coefficients: \\n', regresyon.coef_)"
   ]
  },
  {
   "cell_type": "markdown",
   "metadata": {},
   "source": [
    "# The mean squared error"
   ]
  },
  {
   "cell_type": "code",
   "execution_count": 25,
   "metadata": {},
   "outputs": [
    {
     "name": "stdout",
     "output_type": "stream",
     "text": [
      "Mean squared error: 0.15\n"
     ]
    }
   ],
   "source": [
    "print(\"Mean squared error: %.2f\"\n",
    "      % mean_squared_error(iris1_test, iris1_pred))"
   ]
  },
  {
   "cell_type": "markdown",
   "metadata": {},
   "source": [
    "# Explained variance score: 1 is perfect prediction"
   ]
  },
  {
   "cell_type": "code",
   "execution_count": 26,
   "metadata": {},
   "outputs": [
    {
     "name": "stdout",
     "output_type": "stream",
     "text": [
      "Variance score: -0.76\n"
     ]
    }
   ],
   "source": [
    "print('Variance score: %.2f' % r2_score(iris1_test, iris1_pred))"
   ]
  },
  {
   "cell_type": "markdown",
   "metadata": {},
   "source": [
    "# Plot the Regression Line"
   ]
  },
  {
   "cell_type": "code",
   "execution_count": 29,
   "metadata": {},
   "outputs": [
    {
     "data": {
      "image/png": "[encoded data removed]",
      "text/plain": [
       "<matplotlib.figure.Figure at 0x1a4d40d0d30>"
      ]
     },
     "metadata": {},
     "output_type": "display_data"
    }
   ],
   "source": [
    "plt.scatter(iris2_test, iris1_test,  color='black')\n",
    "plt.plot(iris2_test, iris1_pred, color='red', linewidth=3)\n",
    "\n",
    "plt.xticks(())\n",
    "plt.yticks(())\n",
    "\n",
    "plt.show()"
   ]
  },
  {
   "cell_type": "code",
   "execution_count": null,
   "metadata": {
    "collapsed": true
   },
   "outputs": [],
   "source": []
  }
 ],
 "metadata": {
  "celltoolbar": "Raw Cell Format",
  "kernelspec": {
   "display_name": "Python 3",
   "language": "python",
   "name": "python3"
  },
  "language_info": {
   "codemirror_mode": {
    "name": "ipython",
    "version": 3
   },
   "file_extension": ".py",
   "mimetype": "text/x-python",
   "name": "python",
   "nbconvert_exporter": "python",
   "pygments_lexer": "ipython3",
   "version": "3.6.2"
  }
 },
 "nbformat": 4,
 "nbformat_minor": 1
}
